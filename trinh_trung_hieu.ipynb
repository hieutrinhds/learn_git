{
  "nbformat": 4,
  "nbformat_minor": 0,
  "metadata": {
    "colab": {
      "name": "trinh_trung_hieu.ipynb",
      "provenance": [],
      "collapsed_sections": [],
      "toc_visible": true,
      "include_colab_link": true
    },
    "coursera": {
      "course_slug": "python-crash-course",
      "graded_item_id": "Z5d28",
      "launcher_item_id": "eSjyd"
    },
    "kernelspec": {
      "display_name": "Python 3",
      "language": "python",
      "name": "python3"
    },
    "language_info": {
      "codemirror_mode": {
        "name": "ipython",
        "version": 3
      },
      "file_extension": ".py",
      "mimetype": "text/x-python",
      "name": "python",
      "nbconvert_exporter": "python",
      "pygments_lexer": "ipython3",
      "version": "3.7.6"
    }
  },
  "cells": [
    {
      "cell_type": "markdown",
      "metadata": {
        "id": "view-in-github",
        "colab_type": "text"
      },
      "source": [
        "<a href=\"https://colab.research.google.com/github/hieutrinhds/learn_git/blob/master/trinh_trung_hieu.ipynb\" target=\"_parent\"><img src=\"https://colab.research.google.com/assets/colab-badge.svg\" alt=\"Open In Colab\"/></a>"
      ]
    },
    {
      "cell_type": "markdown",
      "metadata": {
        "id": "VR-nJxQ8Ov3L",
        "colab_type": "text"
      },
      "source": [
        "Hi Philippines, firstly, please enter your exam username to the variable STUDENT_NAME by selecting one of the exam username in the below list!"
      ]
    },
    {
      "cell_type": "code",
      "metadata": {
        "id": "2P5qfIVDOv3N",
        "colab_type": "code",
        "colab": {}
      },
      "source": [
        "# for example, your username is huynh_nguyen_minh_thong\n",
        "STUDENT_NAME = \"trinh_trung_hieu\""
      ],
      "execution_count": 0,
      "outputs": []
    },
    {
      "cell_type": "markdown",
      "metadata": {
        "id": "xbfVTkyxOv3R",
        "colab_type": "text"
      },
      "source": [
        "Secondly, please rename your exam jupyter notebook filename to be your username like this: huynh_nguyen_minh_thong.ipynb"
      ]
    },
    {
      "cell_type": "markdown",
      "metadata": {
        "id": "7bzbTOvqOv3S",
        "colab_type": "text"
      },
      "source": [
        "Please just choose your correct exam username above using one of those names below so my script will automatically detect one of the names below then generate score and feedback for the correct person:\n",
        "\n",
        "thinh_tran\n",
        "\n",
        "beka_martinez\n",
        "\n",
        "trinh_tuan_anh\n",
        "\n",
        "huy_nguyen\n",
        "\n",
        "minh_vu\n",
        "\n",
        "abi_vu\n",
        "\n",
        "trong_hieu_nguyen\n",
        "\n",
        "trinh_trung_hieu\n",
        "\n",
        "hung_nham\n",
        "\n",
        "ai_nguyen\n",
        "\n",
        "hoa_han\n",
        "\n",
        "hong_ke_kien\n",
        "\n",
        "hoang_thai_cong\n",
        "\n",
        "nguyen_thong\n",
        "\n",
        "dung_nguyen\n",
        "\n",
        "hieu_pham"
      ]
    },
    {
      "cell_type": "markdown",
      "metadata": {
        "id": "CL3f8GF_Ov3S",
        "colab_type": "text"
      },
      "source": [
        "---"
      ]
    },
    {
      "cell_type": "markdown",
      "metadata": {
        "colab_type": "text",
        "id": "yC8HJhv3nMZN"
      },
      "source": [
        "# Welcome to the first test of Philippines Machine Learning class!\n",
        "\n",
        "There are a **20 questions** of multiple questions and coding challenges. Each of them will worth some points. Please **follow the strict output format** carefully because we will use a hidden testing script to automatically mark your tests when you submit. There will be hidden test cases that only we know so make sure your coding sections cover all potential cases.\n",
        "\n",
        "*Total score is 100 points (20 main questions) + 20 points(one bonus question).*\n",
        "\n",
        "Note: this is an **open book test** so feel free to google or refer back to your learning notebooks. \n",
        "\n",
        "<img src=\"https://course_report_production.s3.amazonaws.com/rich/rich_files/rich_files/5741/s300/logo-cs-01-01.png\" width=\"300\">\n",
        "\n"
      ]
    },
    {
      "cell_type": "markdown",
      "metadata": {
        "colab_type": "text",
        "id": "mPP1P01ZnwcY"
      },
      "source": [
        "---\n",
        "## Multiple choices with multiple answers\n",
        "Remember your answer always will be in **list**. **There will be maybe multiple correct answers or just single answer**.\n",
        "\n",
        "1) choice 1\n",
        "\n",
        "2) choice 2\n",
        "\n",
        "3) choice 3\n",
        "\n",
        "4) choice 4\n",
        "\n",
        "5) choice 5\n",
        "\n",
        "\n",
        "Example - Your answer **must** be like **one** of these formats like below:\n",
        "\n",
        "return [1]\n",
        "\n",
        "OR\n",
        "\n",
        "return [1,3]\n",
        "\n",
        "OR\n",
        "\n",
        "return [2,3,4]\n"
      ]
    },
    {
      "cell_type": "markdown",
      "metadata": {
        "colab_type": "text",
        "id": "KANgNmf1U0LC"
      },
      "source": [
        "---\n",
        "### Question 0a (0 point) Example Question 1\n",
        "\n",
        "\n",
        "Which keyword in **Python** to define a function?\n",
        "\n",
        "1) function\n",
        "\n",
        "2) def\n",
        "\n",
        "3) @\n",
        "\n",
        "4) Class\n",
        "\n",
        "5) key\n"
      ]
    },
    {
      "cell_type": "code",
      "metadata": {
        "colab_type": "code",
        "id": "KBTVAPCgVaG_",
        "colab": {}
      },
      "source": [
        "def question_0a():\n",
        "  # your answer should be in this format for single answer (you choose answer 2 in this case)\n",
        "  return [2]"
      ],
      "execution_count": 0,
      "outputs": []
    },
    {
      "cell_type": "code",
      "metadata": {
        "colab_type": "code",
        "id": "ToFoBv4LVgMK",
        "colab": {}
      },
      "source": [
        "# This is how the hidden test script works in the hidden cell (you don't need to worry about this part during the exam)\n",
        "# Make sure your answer pass the test script with no error output (this is how our public and hidden test script works)\n",
        "assert sorted(question_0a()) == [2]"
      ],
      "execution_count": 0,
      "outputs": []
    },
    {
      "cell_type": "markdown",
      "metadata": {
        "colab_type": "text",
        "id": "u-IPfIa3Wacs"
      },
      "source": [
        "---\n",
        "### Question 0b (0 point) Example Question 2\n",
        "\n",
        "\n",
        "Which ones are keywords in Python?\n",
        "\n",
        "1) test\n",
        "\n",
        "2) if\n",
        "\n",
        "3) return\n",
        "\n",
        "4) break\n",
        "\n",
        "5) yes\n"
      ]
    },
    {
      "cell_type": "code",
      "metadata": {
        "colab_type": "code",
        "id": "17nd4c06WhJ_",
        "colab": {}
      },
      "source": [
        "def question_0b():\n",
        "  # your answer should be in this format for multiple answers (you choose answer 2, 3 and 4 in this case)\n",
        "  return [2,3,4]"
      ],
      "execution_count": 0,
      "outputs": []
    },
    {
      "cell_type": "code",
      "metadata": {
        "colab_type": "code",
        "id": "ioye5cQUWiID",
        "colab": {}
      },
      "source": [
        "# This is how the hidden test script works in the hidden cell (you don't need to worry about this part during the exam)\n",
        "# Make sure your answer pass the test script with no error output (this is how our public and hidden test script works)\n",
        "assert sorted(question_0b()) == [2,3,4]"
      ],
      "execution_count": 0,
      "outputs": []
    },
    {
      "cell_type": "markdown",
      "metadata": {
        "colab_type": "text",
        "id": "FyJLo1KDnzL_"
      },
      "source": [
        "---\n",
        "### Question 1 (2 point)\n",
        "\n",
        "```python\n",
        "name = \"Minh\"\n",
        "height = 180\n",
        "```\n",
        "Which is the valid ways to format string mixed with variable in **Python** but not Jinja ?\n",
        "```python\n",
        "1) \"My name is \" + name + \" and my height is \" + height\n",
        "2) \"My name is {} and my height is {}\".format(name, height)\n",
        "3) f\"My name is {name} and my height is {height}\"\n",
        "4) \"My name is %s and my height is %s\" %(name, height)\n",
        "5) \"My name is {{name}} and my height is {{height}}\"\n",
        "```\n"
      ]
    },
    {
      "cell_type": "code",
      "metadata": {
        "id": "Lr9ReCt_Sjfy",
        "colab_type": "code",
        "colab": {
          "base_uri": "https://localhost:8080/",
          "height": 34
        },
        "outputId": "695abf0f-5734-483c-e5cd-5837c110994e"
      },
      "source": [
        "name = \"Minh\"\n",
        "height = 180\n",
        "print(\"My name is %s and my height is %s\" %(name, height))"
      ],
      "execution_count": 11,
      "outputs": [
        {
          "output_type": "stream",
          "text": [
            "My name is Minh and my height is 180\n"
          ],
          "name": "stdout"
        }
      ]
    },
    {
      "cell_type": "code",
      "metadata": {
        "colab_type": "code",
        "deletable": false,
        "id": "TVbBI2v30r73",
        "nbgrader": {
          "cell_type": "code",
          "checksum": "8dbc115662c55c698b1a09716803e8d7",
          "grade": false,
          "grade_id": "question_1",
          "locked": false,
          "schema_version": 3,
          "solution": true,
          "task": false
        },
        "colab": {}
      },
      "source": [
        "def question_1():\n",
        "  # YOUR ANSWER HERE\n",
        "  return [2, 3]"
      ],
      "execution_count": 0,
      "outputs": []
    },
    {
      "cell_type": "code",
      "metadata": {
        "colab_type": "code",
        "deletable": false,
        "editable": false,
        "id": "nv-2S23uXpi_",
        "nbgrader": {
          "cell_type": "code",
          "checksum": "37e494caf8d6c9bdb0e9ba1b801eccde",
          "grade": true,
          "grade_id": "question_1_answer",
          "locked": true,
          "points": 2,
          "schema_version": 3,
          "solution": false,
          "task": false
        },
        "colab": {}
      },
      "source": [
        "# Do not delete this cell, this contains marking script! (If you accidentally do it, then undo delete cell Ctrl+M Z)"
      ],
      "execution_count": 0,
      "outputs": []
    },
    {
      "cell_type": "markdown",
      "metadata": {
        "colab_type": "text",
        "id": "BYOtzcD40zsE"
      },
      "source": [
        "---\n",
        "### Question 2 (2 point)\n",
        "\n",
        "If the function doensn't have \"return\" to output or give back any value, what is the default output when calling that function  ?\n",
        "\n",
        "1) Int\n",
        "\n",
        "2) Bool\n",
        "\n",
        "3) Void\n",
        "\n",
        "4) None\n",
        "\n"
      ]
    },
    {
      "cell_type": "code",
      "metadata": {
        "colab_type": "code",
        "deletable": false,
        "id": "D_uJ3ELw2qtT",
        "nbgrader": {
          "cell_type": "code",
          "checksum": "86a875409c75dc755991647ef241b050",
          "grade": false,
          "grade_id": "question_2",
          "locked": false,
          "schema_version": 3,
          "solution": true,
          "task": false
        },
        "colab": {}
      },
      "source": [
        "def question_2():\n",
        "  # YOUR ANSWER HERE\n",
        "  return "
      ],
      "execution_count": 0,
      "outputs": []
    },
    {
      "cell_type": "code",
      "metadata": {
        "colab_type": "code",
        "deletable": false,
        "editable": false,
        "id": "P5PaRk9-Xu-a",
        "nbgrader": {
          "cell_type": "code",
          "checksum": "8965c8d7c08b459cc68ac5d722ed57c2",
          "grade": true,
          "grade_id": "question_2_answer",
          "locked": true,
          "points": 2,
          "schema_version": 3,
          "solution": false,
          "task": false
        },
        "colab": {}
      },
      "source": [
        "# Do not delete this cell, this contains marking script! (If you accidentally do it, then undo delete cell Ctrl+M Z)"
      ],
      "execution_count": 0,
      "outputs": []
    },
    {
      "cell_type": "markdown",
      "metadata": {
        "colab_type": "text",
        "id": "5TQ0PDq43DjW"
      },
      "source": [
        "---\n",
        "### Question 3 (2 point)\n",
        "\n",
        "In Python, what is the correct math operation orders of precedence (from most prioritised to least prioritised) ?\n",
        "\n",
        "*Given that:*\n",
        "\n",
        "a) Parentheses\n",
        "\n",
        "b) Exponential\n",
        "\n",
        "c) Multiplication\n",
        "\n",
        "d) Division\n",
        "\n",
        "e) Addition\n",
        "\n",
        "f) Subtraction\n",
        "\n",
        "*Which order?*\n",
        "\n",
        "1) a,b,c,d,e,f\n",
        "\n",
        "2) b,a,c,d,e,f\n",
        "\n",
        "3) b,a,d,c,e,f\n",
        "\n",
        "4) a,b,c,d,f,e\n",
        "\n"
      ]
    },
    {
      "cell_type": "code",
      "metadata": {
        "colab_type": "code",
        "deletable": false,
        "id": "1pr26Z644gbq",
        "nbgrader": {
          "cell_type": "code",
          "checksum": "c0e8328a486aa658eca75754c6052970",
          "grade": false,
          "grade_id": "question_3",
          "locked": false,
          "schema_version": 3,
          "solution": true,
          "task": false
        },
        "colab": {}
      },
      "source": [
        "def question_3():\n",
        "  # YOUR ANSWER HERE\n",
        "  return "
      ],
      "execution_count": 0,
      "outputs": []
    },
    {
      "cell_type": "code",
      "metadata": {
        "colab_type": "code",
        "deletable": false,
        "editable": false,
        "id": "K6l7YXekYIlY",
        "nbgrader": {
          "cell_type": "code",
          "checksum": "dbef04914b194bd63d6a353eeaea8caa",
          "grade": true,
          "grade_id": "question_3_answer",
          "locked": true,
          "points": 2,
          "schema_version": 3,
          "solution": false,
          "task": false
        },
        "colab": {}
      },
      "source": [
        "# Do not delete this cell, this contains marking script! (If you accidentally do it, then undo delete cell Ctrl+M Z)"
      ],
      "execution_count": 0,
      "outputs": []
    },
    {
      "cell_type": "markdown",
      "metadata": {
        "colab_type": "text",
        "id": "mAOLxKhh5AEz"
      },
      "source": [
        "---\n",
        "### Question 4 (2 point)\n",
        "\n",
        "```python\n",
        "a = \"Hello World Philippines!\"\n",
        "b = a[::]\n",
        "c = b[::-1]\n",
        "d = a[:]\n",
        "e = a[:3]\n",
        "g = a[0:-1:2]\n",
        "h = a[1:-2:-1]\n",
        "j = a[-1:0:-1]\n",
        "l = a[-3:-1]\n",
        "p = a[2:-2:-1]\n",
        "```\n",
        "\n",
        "*Which one give you empty string or invalid or error?*\n",
        "\n",
        "1) g,j\n",
        "\n",
        "2) h,l\n",
        "\n",
        "3) p,h\n",
        "\n",
        "4) g,b\n",
        "\n"
      ]
    },
    {
      "cell_type": "code",
      "metadata": {
        "colab_type": "code",
        "deletable": false,
        "id": "IjwJyff17VaI",
        "nbgrader": {
          "cell_type": "code",
          "checksum": "a37954b8a0616c08218530634ba3a5f1",
          "grade": false,
          "grade_id": "question_4",
          "locked": false,
          "schema_version": 3,
          "solution": true,
          "task": false
        },
        "colab": {}
      },
      "source": [
        "def question_4():\n",
        "  # YOUR ANSWER HERE\n",
        "  return "
      ],
      "execution_count": 0,
      "outputs": []
    },
    {
      "cell_type": "code",
      "metadata": {
        "colab_type": "code",
        "deletable": false,
        "editable": false,
        "id": "z3S9EVDRYPx-",
        "nbgrader": {
          "cell_type": "code",
          "checksum": "87be932848111d7c9a45690b98552dab",
          "grade": true,
          "grade_id": "question_4_answer",
          "locked": true,
          "points": 2,
          "schema_version": 3,
          "solution": false,
          "task": false
        },
        "colab": {}
      },
      "source": [
        "# Do not delete this cell, this contains marking script! (If you accidentally do it, then undo delete cell Ctrl+M Z)"
      ],
      "execution_count": 0,
      "outputs": []
    },
    {
      "cell_type": "markdown",
      "metadata": {
        "colab_type": "text",
        "id": "Y6xwm5Zs7bqJ"
      },
      "source": [
        "---\n",
        "### Question 5 (2 point)\n",
        "\n",
        "In the previous question, why that slicing gives empty string or invalid or error?\n",
        "\n",
        "*Which reason?*\n",
        "\n",
        "1) invalid syntax\n",
        "\n",
        "2) the start position and end position is crossed due to the negative step interval\n",
        "\n",
        "3) do not have any information/argument for slicing\n",
        "\n",
        "4) string memory is corrupted due to many time accesses and slicings.\n",
        "\n"
      ]
    },
    {
      "cell_type": "code",
      "metadata": {
        "colab_type": "code",
        "deletable": false,
        "id": "3TPjPWfI-AEi",
        "nbgrader": {
          "cell_type": "code",
          "checksum": "4a7df0c9c025b0ae792d1d7d1520fe1e",
          "grade": false,
          "grade_id": "question_5",
          "locked": false,
          "schema_version": 3,
          "solution": true,
          "task": false
        },
        "colab": {}
      },
      "source": [
        "def question_5():\n",
        "  # YOUR ANSWER HERE\n",
        "  return "
      ],
      "execution_count": 0,
      "outputs": []
    },
    {
      "cell_type": "code",
      "metadata": {
        "colab_type": "code",
        "deletable": false,
        "editable": false,
        "id": "FgDdv5YNYSLw",
        "nbgrader": {
          "cell_type": "code",
          "checksum": "a64afc7dc18dc8a19e1d89813e9bf6f6",
          "grade": true,
          "grade_id": "question_5_answer",
          "locked": true,
          "points": 2,
          "schema_version": 3,
          "solution": false,
          "task": false
        },
        "colab": {}
      },
      "source": [
        "# Do not delete this cell, this contains marking script! (If you accidentally do it, then undo delete cell Ctrl+M Z)"
      ],
      "execution_count": 0,
      "outputs": []
    },
    {
      "cell_type": "markdown",
      "metadata": {
        "colab_type": "text",
        "id": "uIX4kZQ0-EOJ"
      },
      "source": [
        "---\n",
        "### Question 6 (2 point)\n",
        "```python\n",
        "w=\"good morning Philippines\"\n",
        "v=('a','o','e','u','i')\n",
        "l=\"aoeui\"\n",
        "u=list(l)\n",
        "```\n",
        "Which list comprehension return list of vowel characters in the string like below output?\n",
        "['o', 'o', 'o', 'i', 'o', 'a']\n",
        "\n",
        "Which list comprehension?\n",
        "\n",
        "```python\n",
        "1) [w for w in w if w in l]\n",
        "2) [t for t in w if t in u]\n",
        "3) [r for r in w if r in v]\n",
        "4) [l for v in w if x in w]\n",
        "```\n",
        "\n",
        "\n"
      ]
    },
    {
      "cell_type": "code",
      "metadata": {
        "colab_type": "code",
        "deletable": false,
        "id": "pRAEstf4B61x",
        "nbgrader": {
          "cell_type": "code",
          "checksum": "5e173d1516a459d1710107776bc8c590",
          "grade": false,
          "grade_id": "question_6",
          "locked": false,
          "schema_version": 3,
          "solution": true,
          "task": false
        },
        "colab": {}
      },
      "source": [
        "def question_6():\n",
        "  # YOUR ANSWER HERE\n",
        "  return "
      ],
      "execution_count": 0,
      "outputs": []
    },
    {
      "cell_type": "code",
      "metadata": {
        "colab_type": "code",
        "deletable": false,
        "editable": false,
        "id": "QbrCO1TxYUNW",
        "nbgrader": {
          "cell_type": "code",
          "checksum": "b77c3bef71f87705ebb8c3980c9fef26",
          "grade": true,
          "grade_id": "question_6_answer",
          "locked": true,
          "points": 2,
          "schema_version": 3,
          "solution": false,
          "task": false
        },
        "colab": {}
      },
      "source": [
        "# Do not delete this cell, this contains marking script! (If you accidentally do it, then undo delete cell Ctrl+M Z)"
      ],
      "execution_count": 0,
      "outputs": []
    },
    {
      "cell_type": "markdown",
      "metadata": {
        "colab_type": "text",
        "id": "xqKZUBj1CDbR"
      },
      "source": [
        "---\n",
        "### Question 7 (2 point)\n",
        "Remember we have learnt about dictionary in python, we know every entry in a dictionary will have a key and a value.\n",
        "\n",
        "Which one is not true about dictionary key?\n",
        "\n",
        "1) There is no key which is the same\n",
        "\n",
        "2) Key must be immutable\n",
        "\n",
        "3) Key can be string\n",
        "\n",
        "4) Key must be integer\n",
        "\n",
        "5) Value of dictionary can be any data type"
      ]
    },
    {
      "cell_type": "code",
      "metadata": {
        "colab_type": "code",
        "deletable": false,
        "id": "OSiVjCTQDTXa",
        "nbgrader": {
          "cell_type": "code",
          "checksum": "15a548df4cb2cee04b91b96b1ba5d853",
          "grade": false,
          "grade_id": "question_7",
          "locked": false,
          "schema_version": 3,
          "solution": true,
          "task": false
        },
        "colab": {}
      },
      "source": [
        "def question_7():\n",
        "  # YOUR ANSWER HERE\n",
        "  return "
      ],
      "execution_count": 0,
      "outputs": []
    },
    {
      "cell_type": "code",
      "metadata": {
        "colab_type": "code",
        "deletable": false,
        "editable": false,
        "id": "g8J08Uj6YWWv",
        "nbgrader": {
          "cell_type": "code",
          "checksum": "4f7dfe111470e7cd3c147c780fd38a12",
          "grade": true,
          "grade_id": "question_7_answer",
          "locked": true,
          "points": 2,
          "schema_version": 3,
          "solution": false,
          "task": false
        },
        "colab": {}
      },
      "source": [
        "# Do not delete this cell, this contains marking script! (If you accidentally do it, then undo delete cell Ctrl+M Z)"
      ],
      "execution_count": 0,
      "outputs": []
    },
    {
      "cell_type": "markdown",
      "metadata": {
        "colab_type": "text",
        "id": "bv0nBkLJJ9ID"
      },
      "source": [
        "---\n",
        "### Question 8 (2 point)\n",
        "Which git commands creates a copy of repository on the localhost/workspace?\n",
        "\n",
        "1) commit\n",
        "\n",
        "2) pull\n",
        "\n",
        "3) merge\n",
        "\n",
        "4) clone\n",
        "\n",
        "5) push"
      ]
    },
    {
      "cell_type": "code",
      "metadata": {
        "colab_type": "code",
        "deletable": false,
        "id": "p0wfv5FvKel6",
        "nbgrader": {
          "cell_type": "code",
          "checksum": "3eda0e9e6924295148c3827f6fb00f79",
          "grade": false,
          "grade_id": "question_8",
          "locked": false,
          "schema_version": 3,
          "solution": true,
          "task": false
        },
        "colab": {}
      },
      "source": [
        "def question_8():\n",
        "  # YOUR ANSWER HERE\n",
        "  return "
      ],
      "execution_count": 0,
      "outputs": []
    },
    {
      "cell_type": "code",
      "metadata": {
        "colab_type": "code",
        "deletable": false,
        "editable": false,
        "id": "D1sVszR4YX_j",
        "nbgrader": {
          "cell_type": "code",
          "checksum": "54dd4d09b74dc3124b8bf75e1e36ce57",
          "grade": true,
          "grade_id": "question_8_answer",
          "locked": true,
          "points": 2,
          "schema_version": 3,
          "solution": false,
          "task": false
        },
        "colab": {}
      },
      "source": [
        "# Do not delete this cell, this contains marking script! (If you accidentally do it, then undo delete cell Ctrl+M Z)"
      ],
      "execution_count": 0,
      "outputs": []
    },
    {
      "cell_type": "markdown",
      "metadata": {
        "colab_type": "text",
        "id": "aADMGCwWKvnK"
      },
      "source": [
        "---\n",
        "### Question 9 (2 point)\n",
        "In your weekly project, you already have a local repository folder, and other teammate(s) pushed their updates to the remote repository on github. which git command you need to use to download those changes into your local folder?\n",
        "\n",
        "1) checkout\n",
        "\n",
        "2) pull\n",
        "\n",
        "3) merge\n",
        "\n",
        "4) clone\n",
        "\n",
        "5) push"
      ]
    },
    {
      "cell_type": "code",
      "metadata": {
        "colab_type": "code",
        "deletable": false,
        "id": "ly2IJPzuMMRc",
        "nbgrader": {
          "cell_type": "code",
          "checksum": "0f6bff34ac1ecd28d3f836373335e8d7",
          "grade": false,
          "grade_id": "question_9",
          "locked": false,
          "schema_version": 3,
          "solution": true,
          "task": false
        },
        "colab": {}
      },
      "source": [
        "def question_9():\n",
        "  # YOUR ANSWER HERE\n",
        "  return "
      ],
      "execution_count": 0,
      "outputs": []
    },
    {
      "cell_type": "code",
      "metadata": {
        "colab_type": "code",
        "deletable": false,
        "editable": false,
        "id": "kj3uvh0rYZg2",
        "nbgrader": {
          "cell_type": "code",
          "checksum": "b6cdd0362f50c91a6ce6e392b5ef454f",
          "grade": true,
          "grade_id": "question_9_answer",
          "locked": true,
          "points": 2,
          "schema_version": 3,
          "solution": false,
          "task": false
        },
        "colab": {}
      },
      "source": [
        "# Do not delete this cell, this contains marking script! (If you accidentally do it, then undo delete cell Ctrl+M Z)"
      ],
      "execution_count": 0,
      "outputs": []
    },
    {
      "cell_type": "markdown",
      "metadata": {
        "colab_type": "text",
        "id": "1XrA1F__MP1K"
      },
      "source": [
        "---\n",
        "### Question 10 (2 point)\n",
        "For your weekly project, you created a project folder, initialised a new git repository by doing \"git init\" and created a new HTML file named \"index.html\", which following git command will not work or return error warnings if running it?\n",
        "\n",
        "1) git status\n",
        "\n",
        "2) git add index.html\n",
        "\n",
        "3) git add .\n",
        "\n",
        "4) git commit -m \"homepage html file added\"\n",
        "\n",
        "5) git push"
      ]
    },
    {
      "cell_type": "code",
      "metadata": {
        "colab_type": "code",
        "deletable": false,
        "id": "z0NBrQqdNPrr",
        "nbgrader": {
          "cell_type": "code",
          "checksum": "0b5b4ad7db738f3e0560f5ed740b2c0c",
          "grade": false,
          "grade_id": "question_10",
          "locked": false,
          "schema_version": 3,
          "solution": true,
          "task": false
        },
        "colab": {}
      },
      "source": [
        "def question_10():\n",
        "  # YOUR ANSWER HERE\n",
        "  return "
      ],
      "execution_count": 0,
      "outputs": []
    },
    {
      "cell_type": "code",
      "metadata": {
        "colab_type": "code",
        "deletable": false,
        "editable": false,
        "id": "0FLsMJTNYbY9",
        "nbgrader": {
          "cell_type": "code",
          "checksum": "3b600c3b3e5c83298985a1ce2b3131f4",
          "grade": true,
          "grade_id": "question_10_answer",
          "locked": true,
          "points": 2,
          "schema_version": 3,
          "solution": false,
          "task": false
        },
        "colab": {}
      },
      "source": [
        "# Do not delete this cell, this contains marking script! (If you accidentally do it, then undo delete cell Ctrl+M Z)"
      ],
      "execution_count": 0,
      "outputs": []
    },
    {
      "cell_type": "markdown",
      "metadata": {
        "colab_type": "text",
        "id": "TMMVUPO8PnXq"
      },
      "source": [
        "---\n",
        "### Question 11 (2 point)\n",
        "For bash commands, we have definitions as below:\n",
        "\n",
        "a) **pwd** is to print out current working directory\n",
        "\n",
        "b) **ls** is to list down all file(s)/folder(s) in current folder\n",
        "\n",
        "c) **cd** is to change current directory to another folder\n",
        "\n",
        "d) **mkdir** is to make a new directory\n",
        "\n",
        "e) **rm** is to remove folder(s)/file(s)\n",
        "\n",
        "f) **cp** is to copy file(s)/folder(s)\n",
        "\n",
        "g) **mv** is to move file(s)/folder(s)\n",
        "\n",
        "h) **touch** is to create empty file(s)\n",
        "\n",
        "l) **cat** is to show the content of the file\n",
        "\n",
        "o) **grep** for searching\n",
        "\n",
        "p) **sed** for transforming\n",
        "\n",
        "What one is incorrected?\n",
        "\n",
        "1) c, g, p\n",
        "\n",
        "2) e, o, h\n",
        "\n",
        "3) o, l, e\n",
        "\n",
        "4) None of them"
      ]
    },
    {
      "cell_type": "code",
      "metadata": {
        "colab_type": "code",
        "deletable": false,
        "id": "dpdHoQyXRtoF",
        "nbgrader": {
          "cell_type": "code",
          "checksum": "ef3e8093bee9b8d3e432c3bdfae3b83f",
          "grade": false,
          "grade_id": "question_11",
          "locked": false,
          "schema_version": 3,
          "solution": true,
          "task": false
        },
        "colab": {}
      },
      "source": [
        "def question_11():\n",
        "  # YOUR ANSWER HERE\n",
        "  return "
      ],
      "execution_count": 0,
      "outputs": []
    },
    {
      "cell_type": "code",
      "metadata": {
        "colab_type": "code",
        "deletable": false,
        "editable": false,
        "id": "pOeiJxLrYdug",
        "nbgrader": {
          "cell_type": "code",
          "checksum": "07b61852cc311a74ba556aa3cda1d2e8",
          "grade": true,
          "grade_id": "question_11_answer",
          "locked": true,
          "points": 2,
          "schema_version": 3,
          "solution": false,
          "task": false
        },
        "colab": {}
      },
      "source": [
        "# Do not delete this cell, this contains marking script! (If you accidentally do it, then undo delete cell Ctrl+M Z)"
      ],
      "execution_count": 0,
      "outputs": []
    },
    {
      "cell_type": "markdown",
      "metadata": {
        "colab_type": "text",
        "id": "yoFEFrE83a1q"
      },
      "source": [
        "---\n",
        "### Question 12 (2 point)\n",
        "\n",
        "What is incorrect about PRIMARY KEY constraint in database?\n",
        "\n",
        "1) It uniquely identifies each row/record in table\n",
        "\n",
        "2) It must have unique value\n",
        "\n",
        "3) It can either on one column or multiple columns\n",
        "\n",
        "4) We need to always manually define the value of primary key when inserting a new row/record\n",
        "\n",
        "5) It cannot contain NULL value\n"
      ]
    },
    {
      "cell_type": "code",
      "metadata": {
        "colab_type": "code",
        "deletable": false,
        "id": "Pg5uKmkQ3fd0",
        "nbgrader": {
          "cell_type": "code",
          "checksum": "5b29d50a33f3e1275d0d6bc840f4170e",
          "grade": false,
          "grade_id": "question_12",
          "locked": false,
          "schema_version": 3,
          "solution": true,
          "task": false
        },
        "colab": {}
      },
      "source": [
        "def question_12():\n",
        "  # YOUR ANSWER HERE\n",
        "  return "
      ],
      "execution_count": 0,
      "outputs": []
    },
    {
      "cell_type": "code",
      "metadata": {
        "colab_type": "code",
        "deletable": false,
        "editable": false,
        "id": "D0Hm1hiqYfXV",
        "nbgrader": {
          "cell_type": "code",
          "checksum": "194cc98dacc9a86dbf108fba40ca6b09",
          "grade": true,
          "grade_id": "question_12_answer",
          "locked": true,
          "points": 2,
          "schema_version": 3,
          "solution": false,
          "task": false
        },
        "colab": {}
      },
      "source": [
        "# Do not delete this cell, this contains marking script! (If you accidentally do it, then undo delete cell Ctrl+M Z)"
      ],
      "execution_count": 0,
      "outputs": []
    },
    {
      "cell_type": "markdown",
      "metadata": {
        "colab_type": "text",
        "id": "5EIej1p73ckD"
      },
      "source": [
        "---\n",
        "### Question 13 (2 point)\n",
        "\n",
        "Which are possible relationship types between two tables in relational database?\n",
        "\n",
        "1) One-to-One relationship\n",
        "\n",
        "2) Few-to-One relationship\n",
        "\n",
        "3) One-to-Many relationship\n",
        "\n",
        "4) Many-to-Single relationship\n",
        "\n",
        "5) Many-to-Many relationship\n"
      ]
    },
    {
      "cell_type": "code",
      "metadata": {
        "colab_type": "code",
        "deletable": false,
        "id": "Ww0OdCea-Ti4",
        "nbgrader": {
          "cell_type": "code",
          "checksum": "b4d52c6df999c5c0c4873b442b5a7a1e",
          "grade": false,
          "grade_id": "question_13",
          "locked": false,
          "schema_version": 3,
          "solution": true,
          "task": false
        },
        "colab": {}
      },
      "source": [
        "def question_13():\n",
        "  # YOUR ANSWER HERE\n",
        "  return "
      ],
      "execution_count": 0,
      "outputs": []
    },
    {
      "cell_type": "code",
      "metadata": {
        "colab_type": "code",
        "deletable": false,
        "editable": false,
        "id": "77jRVeWEYhN0",
        "nbgrader": {
          "cell_type": "code",
          "checksum": "1b1cd84be66c82c924b76662e3d9d97a",
          "grade": true,
          "grade_id": "question_13_answer",
          "locked": true,
          "points": 2,
          "schema_version": 3,
          "solution": false,
          "task": false
        },
        "colab": {}
      },
      "source": [
        "# Do not delete this cell, this contains marking script! (If you accidentally do it, then undo delete cell Ctrl+M Z)"
      ],
      "execution_count": 0,
      "outputs": []
    },
    {
      "cell_type": "markdown",
      "metadata": {
        "colab_type": "text",
        "id": "CwnASfrY-nh8"
      },
      "source": [
        "---\n",
        "### Question 14 (2 point)\n",
        "\n",
        "What types of join is available in relational database?\n",
        "\n",
        "1) Inner Join\n",
        "\n",
        "2) Outside Join\n",
        "\n",
        "3) Down Join\n",
        "\n",
        "4) Left Join\n",
        "\n",
        "5) Right Join\n",
        "\n",
        "6) Up Join\n",
        "\n",
        "7) Full (Outer) Join\n"
      ]
    },
    {
      "cell_type": "code",
      "metadata": {
        "colab_type": "code",
        "deletable": false,
        "id": "vPOa6u4Lxos9",
        "nbgrader": {
          "cell_type": "code",
          "checksum": "361cdd301d55fc7cbcced923c733f659",
          "grade": false,
          "grade_id": "question_14",
          "locked": false,
          "schema_version": 3,
          "solution": true,
          "task": false
        },
        "colab": {}
      },
      "source": [
        "def question_14():\n",
        "  # YOUR ANSWER HERE\n",
        "  return "
      ],
      "execution_count": 0,
      "outputs": []
    },
    {
      "cell_type": "code",
      "metadata": {
        "colab_type": "code",
        "deletable": false,
        "editable": false,
        "id": "MJeMsV3YYjCp",
        "nbgrader": {
          "cell_type": "code",
          "checksum": "cbaadd9fc72f6e529be252a4947ed387",
          "grade": true,
          "grade_id": "question_14_answer",
          "locked": true,
          "points": 2,
          "schema_version": 3,
          "solution": false,
          "task": false
        },
        "colab": {}
      },
      "source": [
        "# Do not delete this cell, this contains marking script! (If you accidentally do it, then undo delete cell Ctrl+M Z)"
      ],
      "execution_count": 0,
      "outputs": []
    },
    {
      "cell_type": "markdown",
      "metadata": {
        "colab_type": "text",
        "id": "l7Sf8MYP3YzU"
      },
      "source": [
        "---\n",
        "## Code Challenges\n",
        "\n",
        "Each question has description of what the function suppose to return. The function name and declaration is done for you. **Please do not change the function name and its input argument(s)**. Therefore, only complete the function body and return **correct datatype of value**.\n",
        "\n",
        "**Remember that your part is to only edit/modify where there is \"YOUR ANSWER HERE\" comment section.**\n",
        "\n",
        "Since we use functions, so **please do not use print to return values, only use \"return\" keyword to return final value!**\n",
        "\n",
        "**Have fun and enjoy coding section!**\n"
      ]
    },
    {
      "cell_type": "markdown",
      "metadata": {
        "colab_type": "text",
        "id": "1-3zV0nSH9tK"
      },
      "source": [
        "---\n",
        "### Question 15 (5 points)\n",
        "Complete the function to remove duplicated elements in the list and return the sorted result\n",
        "\n",
        "``` python\n",
        "remove_duplicate([2,3,2,5,6,7,10,6,3])\n",
        "\n",
        "[2,3,5,6,7,10]\n",
        "```\n"
      ]
    },
    {
      "cell_type": "code",
      "metadata": {
        "colab_type": "code",
        "deletable": false,
        "id": "CuCh_WM3Og4C",
        "nbgrader": {
          "cell_type": "code",
          "checksum": "33076c58e13d86e429fafbd94654eb91",
          "grade": false,
          "grade_id": "question_15",
          "locked": false,
          "schema_version": 3,
          "solution": true,
          "task": false
        },
        "colab": {}
      },
      "source": [
        "def remove_duplicate(dup):\n",
        "  # YOUR ANSWER HERE\n",
        "  return \n",
        "  \n",
        "\n",
        "print(remove_duplicate([2,3,2,5,6,7,10,6,3]))"
      ],
      "execution_count": 0,
      "outputs": []
    },
    {
      "cell_type": "code",
      "metadata": {
        "colab_type": "code",
        "deletable": false,
        "editable": false,
        "id": "rLe1ipNdYloY",
        "nbgrader": {
          "cell_type": "code",
          "checksum": "1f06369d6cfd28cb4d82143c075baad6",
          "grade": true,
          "grade_id": "question_15_answer",
          "locked": true,
          "points": 5,
          "schema_version": 3,
          "solution": false,
          "task": false
        },
        "colab": {}
      },
      "source": [
        "# Do not delete this cell, this contains marking script! (If you accidentally do it, then undo delete cell Ctrl+M Z)\n",
        "# Make sure your answer pass the test script with no error output (we will have more hidden test cases)\n",
        "assert remove_duplicate([2,3,2,5,6,7,10,6,3]) == [2, 3, 5, 6, 7, 10]"
      ],
      "execution_count": 0,
      "outputs": []
    },
    {
      "cell_type": "markdown",
      "metadata": {
        "colab_type": "text",
        "id": "kTJ4z1xGPTRN"
      },
      "source": [
        "---\n",
        "### Question 16  (8 points)\n",
        "Complete the function to calculate the total cost of the receipt input as a dictionary as below\n",
        "\n",
        "``` python\n",
        "\n",
        "receipt = {\n",
        "  \"milk\": {\"weight\": 1, \"cost\": 30},\n",
        "  \"rice\": {\"weight\": 2, \"cost\": 20},\n",
        "  \"cookie\": {\"weight\": 3, \"cost\": 30},\n",
        "  \"sugar\": {\"weight\": 1, \"cost\": 40},\n",
        "}\n",
        "\n",
        "process_receipt(receipt)\n",
        "\n",
        "\"Total cost is $120 and weight is 7 kg\"\n",
        "```\n"
      ]
    },
    {
      "cell_type": "code",
      "metadata": {
        "colab_type": "code",
        "deletable": false,
        "id": "zy3FJOH0T4yY",
        "nbgrader": {
          "cell_type": "code",
          "checksum": "6700b6d74d2f998f9c2e5b76ba3bb08d",
          "grade": false,
          "grade_id": "question_16",
          "locked": false,
          "schema_version": 3,
          "solution": true,
          "task": false
        },
        "colab": {}
      },
      "source": [
        "receipt = {\n",
        "  \"milk\": {\"weight\": 1, \"cost\": 30},\n",
        "  \"rice\": {\"weight\": 2, \"cost\": 20},\n",
        "  \"cookie\": {\"weight\": 3, \"cost\": 30},\n",
        "  \"sugar\": {\"weight\": 1, \"cost\": 40},\n",
        "}\n",
        "\n",
        "def process_receipt(receipt):\n",
        "  # YOUR ANSWER HERE\n",
        "  return \n",
        "\n",
        "process_receipt(receipt)"
      ],
      "execution_count": 0,
      "outputs": []
    },
    {
      "cell_type": "code",
      "metadata": {
        "colab_type": "code",
        "deletable": false,
        "editable": false,
        "id": "ns2F03QHZRH5",
        "nbgrader": {
          "cell_type": "code",
          "checksum": "6e95a292dc3a4ab169b1d4926c757f34",
          "grade": true,
          "grade_id": "question_16_answer",
          "locked": true,
          "points": 8,
          "schema_version": 3,
          "solution": false,
          "task": false
        },
        "colab": {}
      },
      "source": [
        "# Do not delete this cell, this contains marking script! (If you accidentally do it, then undo delete cell Ctrl+M Z)\n",
        "# Make sure your answer pass the test script with no error output (we will have more hidden test cases)\n",
        "receipt = {\n",
        "  \"milk\": {\"weight\": 1, \"cost\": 30},\n",
        "  \"rice\": {\"weight\": 2, \"cost\": 20},\n",
        "  \"cookie\": {\"weight\": 3, \"cost\": 30},\n",
        "  \"sugar\": {\"weight\": 1, \"cost\": 40},\n",
        "}\n",
        "assert process_receipt(receipt) == 'Total cost is $120 and weight is 7 kg'"
      ],
      "execution_count": 0,
      "outputs": []
    },
    {
      "cell_type": "markdown",
      "metadata": {
        "colab_type": "text",
        "id": "i4m_xsXbU6bT"
      },
      "source": [
        "---\n",
        "### Question 17  (12 point)\n",
        "Complete the function to calculate the possible number of ways to climb to the stair with n steps.\n",
        "\n",
        "There is **two way** to climb:\n",
        "\n",
        "**1) Step up one step (+1 step)**\n",
        "\n",
        "**2) Jump to skip one step (+2 steps)**\n",
        "\n",
        "Note: Jumping is always +2 steps and you can do as many jumps as you want. Also, you cannot over jump more than n steps like if n = 5, and you are at t=4 then you cannot choose to jump but step up one step only.\n",
        "\n",
        "**For example**\n",
        "If n = 5 which means the stairs got 5 steps to reach the top, you are at step 1 (t=1), you have two decisions: \n",
        "\n",
        "1) Step up one step (+1) -> t=2\n",
        "\n",
        "2) Jump to skip one step (+2) -> t=3\n",
        "\n",
        "When you are t=2 or t=3, you continue to choose what to do next until you reach t=5.\n",
        "\n",
        "\n",
        "So in total:\n",
        "\n",
        "1) t=1 -> t=2 -> t=3 -> t=4 -> t=5 (always step up normally) (Red color)\n",
        "\n",
        "OR\n",
        "\n",
        "2) t=1 -> t=2 -> t=3 -> t=5 (jump one time - last step) (Green color)\n",
        "\n",
        "OR\n",
        "\n",
        "3) t=1 -> t=2 -> t = 4 -> t=5 (jump one time - second step) (Grey color)\n",
        "\n",
        "OR\n",
        "\n",
        "4) t=1 -> t=3 -> t=4 -> t=5 (jump one time - first step) (Blue color)\n",
        "\n",
        "OR\n",
        "\n",
        "5) t=1 -> t=3 -> t=5 (always jump) (Dark Red color)\n",
        "\n",
        "Here is my best to sketch the solution :) No shame please!\n",
        "\n",
        "<img src=\"https://i.imgur.com/FdX5qnj.png\" width=\"400\">\n",
        "\n",
        "**In total, there is 5 ways (5 color paths) to climb up stair n = 5**. In this case, the *number of ways* is *coincident* to be the same with **n** for n=5. Usually number of ways is way bigger for big n.\n",
        "\n",
        "Hints: it is easier to do it in a **recursive** way!\n",
        "\n",
        "\n",
        "``` python\n",
        "# with t=1 (starting step) and n=5 (highest steps in the stair)\n",
        "climb_stairs(1, 5)\n",
        "\n",
        "5\n",
        "```\n"
      ]
    },
    {
      "cell_type": "code",
      "metadata": {
        "colab_type": "code",
        "deletable": false,
        "id": "FHRF5EpVYab7",
        "nbgrader": {
          "cell_type": "code",
          "checksum": "2d4a62dc54597d4713f58c86404a9c07",
          "grade": false,
          "grade_id": "question_17",
          "locked": false,
          "schema_version": 3,
          "solution": true,
          "task": false
        },
        "colab": {}
      },
      "source": [
        "count = 0\n",
        "def climb_stair(t,n):\n",
        "  # YOUR ANSWER HERE\n",
        "  return \n",
        "\n",
        "climb_stair(1,5) "
      ],
      "execution_count": 0,
      "outputs": []
    },
    {
      "cell_type": "code",
      "metadata": {
        "colab_type": "code",
        "deletable": false,
        "editable": false,
        "id": "b-nMdvD_Zwp7",
        "nbgrader": {
          "cell_type": "code",
          "checksum": "947cc92355ee7eda69e4b4379da6f223",
          "grade": true,
          "grade_id": "question_17_answer",
          "locked": true,
          "points": 12,
          "schema_version": 3,
          "solution": false,
          "task": false
        },
        "colab": {}
      },
      "source": [
        "# Do not delete this cell, this contains marking script! (If you accidentally do it, then undo delete cell Ctrl+M Z)\n",
        "# Make sure your answer pass the test script with no error output (we will have more hidden test cases)\n",
        "count = 0\n",
        "assert climb_stair(1,4) == 3\n",
        "\n",
        "count = 0\n",
        "assert climb_stair(1,5) == 5\n",
        "\n",
        "count = 0\n",
        "assert climb_stair(1,7) == 13"
      ],
      "execution_count": 0,
      "outputs": []
    },
    {
      "cell_type": "markdown",
      "metadata": {
        "colab_type": "text",
        "id": "JWiJFKOXYqXi"
      },
      "source": [
        "---\n",
        "### Question 18 (15 point)\n",
        "Scrapping a web link: https://tuoitrenews.vn/international\n",
        "\n",
        "Return a list of dictionary of article names and descriptions of **\"Latest News\"** section at bottom left of the page (like only 10 articles there)! The format should be exactly like below!\n",
        "\n",
        "**The function must return a tuple of two elements**:\n",
        "\n",
        "1) String of \"Number of latest articles is ...\"\n",
        "\n",
        "2) List of dictionary of articles where each article has title and description as keys as below.\n",
        "\n",
        "``` python\n",
        "scrape_monthly_startup_fr()\n",
        "\n",
        "('Number of latest articles is 10',\n",
        " [{'description': \"'It is obvious that Xi could not have visited Wuhan earlier because the risk of him contracting the virus there was too high initially'\",\n",
        "   'title': \"China's President Xi visits Wuhan as number of new coronavirus cases tumbles\"},\n",
        "  {'description': 'The daily rate of new infections in South Korea fell to its lowest level in 11 days on Monday',\n",
        "   'title': 'South Korea reports 35 new coronavirus cases, total at 7,513'},\n",
        "...\n",
        "  {'description': 'All museums, gyms, cultural centers, ski resorts and swimming pools will be shut in the targeted zones, while leave was canceled for health workers as Italy’s hospitals sag under the pressure of the virus',\n",
        "   'title': 'Italy orders lockdown of swathes of north to try to stop coronavirus'}])\n",
        "```\n",
        "\n",
        "**Note: there is no hidden test script for this question since news content is changing everyday so this question we will mark the answer manually.**\n"
      ]
    },
    {
      "cell_type": "code",
      "metadata": {
        "colab_type": "code",
        "deletable": false,
        "id": "6KUqvozxaifM",
        "nbgrader": {
          "cell_type": "code",
          "checksum": "51773b6a086f7f5d46f49264fbd775fb",
          "grade": true,
          "grade_id": "question_18",
          "locked": false,
          "points": 15,
          "schema_version": 3,
          "solution": true,
          "task": false
        },
        "colab": {}
      },
      "source": [
        "import requests\n",
        "from bs4 import BeautifulSoup\n",
        "def scrape_monthly_startup_fr():\n",
        "  # YOUR ANSWER HERE\n",
        "  return \n",
        "\n",
        "scrape_monthly_startup_fr()"
      ],
      "execution_count": 0,
      "outputs": []
    },
    {
      "cell_type": "markdown",
      "metadata": {
        "colab_type": "text",
        "id": "C1Pr6U7AErwl"
      },
      "source": [
        "---\n",
        "### Question 19 (12 point)\n",
        "We have learnt decorators and this challenge is focused on the flow of stacked decorators.\n",
        "\n",
        "We have two decorators attached to the function fancy_print below to decorate the output string (such a nice pun). \n",
        "\n",
        "Complete the body of k function and l function of print out top and bottom strings as below!\n",
        "\n",
        "``` python\n",
        "fancy_print(\"Philippines 2020\")\n",
        "\n",
        "##########\n",
        "----------\n",
        "Philippines 2020\n",
        "----------\n",
        "##########\n",
        "```\n",
        "\n",
        "**Note: there is no hidden test script for this question so we will mark the answer manually. Let you guys be creative here!**"
      ]
    },
    {
      "cell_type": "code",
      "metadata": {
        "colab_type": "code",
        "deletable": false,
        "id": "M_KCYscEFQww",
        "nbgrader": {
          "cell_type": "code",
          "checksum": "cd61aa6eb42ca0baae2ee42ecf50f436",
          "grade": true,
          "grade_id": "question_19",
          "locked": false,
          "points": 12,
          "schema_version": 3,
          "solution": true,
          "task": false
        },
        "colab": {}
      },
      "source": [
        "def g(func_input):\n",
        "    \"\"\"\n",
        "    This decorator only needs to take care of \"#\" part\n",
        "    \"\"\"\n",
        "    def k(*args, **kwargs):\n",
        "      # YOUR ANSWER HERE\n",
        "      return \n",
        "      func_input(*args, **kwargs)\n",
        "      # YOUR ANSWER HERE\n",
        "      return \n",
        "    return k\n",
        "def h(func_input):\n",
        "    \"\"\"\n",
        "    This decorator only needs to take care of \"-\" part\n",
        "    \"\"\"\n",
        "    def l(*args, **kwargs):\n",
        "      # YOUR ANSWER HERE\n",
        "      return \n",
        "      func_input(*args, **kwargs)\n",
        "      # YOUR ANSWER HERE\n",
        "      return \n",
        "    return l\n",
        "\n",
        "@g  # this decorator run first\n",
        "@h  # this decorator run later\n",
        "def fancy_print(m):\n",
        "    print(m)\n",
        "\n",
        "fancy_print(\"Philippines 2020\")"
      ],
      "execution_count": 0,
      "outputs": []
    },
    {
      "cell_type": "markdown",
      "metadata": {
        "colab_type": "text",
        "id": "PNrY_aWz-XfL"
      },
      "source": [
        "---\n",
        "### Question 20 (15 point)\n",
        "\n",
        "In the random.db, we have Items table, Sizes table and Manufacturers table. Try to **do three way join to get the result table as below with the condition is that the price is larger than 10 and sort the result by item name in descending order** :)\n",
        "\n",
        "\n",
        "**Items**\n",
        "\n",
        "| id | name   | price   | size_id   | manufacturer_id\n",
        "|------|------|------|------|------|\n",
        "|   1  | chair| 10| 3|1\n",
        "|   2  | table| 20| 3|1\n",
        "|   3  | cup| 30| 2|2\n",
        "|   4  | glass| 16| 1|2\n",
        "|   5  | lamp| 20| 1|3\n",
        "|   6  | door| 25| 2|3\n",
        "\n",
        "\n",
        "**Sizes**\n",
        "\n",
        "| id | name   |\n",
        "|------|------|\n",
        "|   1  | small|\n",
        "|   2  | medium|\n",
        "|   3  | big|\n",
        "\n",
        "\n",
        "**Manufacturers**\n",
        "\n",
        "| id | name   |\n",
        "|------|------|\n",
        "|   1  | Honda|\n",
        "|   2  | Ikea|\n",
        "|   3  | Suyuki|\n",
        "\n",
        "\n",
        "\n",
        "**Result Table**\n",
        "\n",
        "|id|name|price|size |manufacturer\n",
        "|------|------|------|------|------|\n",
        "|2|\ttable|\t20|\tbig|\tHonda\n",
        "|5\t|lamp|\t20|\tsmall|\tSuyuki\n",
        "|4\t|glass|\t16|\tsmall|\tIkea\n",
        "|6\t|door|\t25|\tmedium|\tSuyuki\n",
        "\n",
        "\n",
        "**Note: there is no hidden test script for this question so we will mark the answer manually for each student.**"
      ]
    },
    {
      "cell_type": "code",
      "metadata": {
        "colab_type": "code",
        "id": "XgdWQMHfekFT",
        "colab": {}
      },
      "source": [
        "# download the random.db file for our database\n",
        "!wget -q 'https://raw.githubusercontent.com/dhminh1024/practice_datasets/master/random.db'"
      ],
      "execution_count": 0,
      "outputs": []
    },
    {
      "cell_type": "code",
      "metadata": {
        "colab_type": "code",
        "id": "pizpxzlyfOFx",
        "colab": {}
      },
      "source": [
        "# connect to sqlite db file (random.db)\n",
        "import sqlite3\n",
        "conn = sqlite3.connect('random.db')"
      ],
      "execution_count": 0,
      "outputs": []
    },
    {
      "cell_type": "code",
      "metadata": {
        "colab_type": "code",
        "deletable": false,
        "id": "DUqwIJo3fTPJ",
        "nbgrader": {
          "cell_type": "code",
          "checksum": "a2c5d838b437e7cb19b4fb85b219960b",
          "grade": true,
          "grade_id": "question_20",
          "locked": false,
          "points": 20,
          "schema_version": 3,
          "solution": true,
          "task": false
        },
        "colab": {}
      },
      "source": [
        "import pandas as pd\n",
        "# you can use pd.read_sql_query to query SQL and display the table like above\n",
        "# YOUR ANSWER HERE\n",
        "return "
      ],
      "execution_count": 0,
      "outputs": []
    },
    {
      "cell_type": "markdown",
      "metadata": {
        "colab_type": "text",
        "id": "xXKJLk4mOJ02"
      },
      "source": [
        "---\n",
        "# Bonus Final Fun Challenge - Word Cloud (20 point)"
      ]
    },
    {
      "cell_type": "markdown",
      "metadata": {
        "colab_type": "text",
        "id": "yGn5mH8kOJ03"
      },
      "source": [
        "\n",
        "<img src=\"https://i.imgur.com/TRGcH6z.png\" width=\"300\">\n",
        "\n",
        "For this project, you'll create a \"word cloud\" from a text by writing a script.  This script needs to process the text, remove punctuation/non-alphabets, ignore case and words that do not contain all alphabets, count the frequencies, and ignore uninteresting or irrelevant words.  A dictionary is the output of the `calculate_frequencies` function.  The `wordcloud` module will then generate the image from your dictionary."
      ]
    },
    {
      "cell_type": "code",
      "metadata": {
        "colab_type": "code",
        "id": "MBcQ9tl-OJ05",
        "colab": {}
      },
      "source": [
        "# Here are all the installs and imports you will need for your word cloud script\n",
        "\n",
        "!pip install wordcloud\n",
        "\n",
        "import wordcloud\n",
        "import numpy as np\n",
        "from matplotlib import pyplot as plt\n",
        "from IPython.display import display\n",
        "import requests"
      ],
      "execution_count": 0,
      "outputs": []
    },
    {
      "cell_type": "markdown",
      "metadata": {
        "colab_type": "text",
        "id": "ca8sn3txOJ09"
      },
      "source": [
        "Whew! That was a lot. All of the installs and imports for your word cloud script have been completed. \n",
        "<br><br>\n",
        "**IMPORTANT!** If this was your first time running the above cell containing the installs and imports, you will need save this notebook now. Then under the File menu above,  select Close and Halt. When the notebook has completely shut down, reopen it. This is the only way the necessary changes will take affect.\n",
        "<br><br>\n"
      ]
    },
    {
      "cell_type": "code",
      "metadata": {
        "colab_type": "code",
        "id": "FoVIX2xEOJ09",
        "colab": {}
      },
      "source": [
        "# link of text file of Shakespeare books\n",
        "textlink = 'https://raw.githubusercontent.com/bbejeck/hadoop-algorithms/master/src/shakespeare.txt'\n",
        "resp = requests.get(textlink)\n",
        "whole_text=resp.content.decode(\"utf-8\") #decode from byte to string \n",
        "whole_text[:1000]"
      ],
      "execution_count": 0,
      "outputs": []
    },
    {
      "cell_type": "markdown",
      "metadata": {
        "colab_type": "text",
        "id": "s-60cFf_yBv_"
      },
      "source": [
        "As you can see those non-alphabet characeters such as\"\\ufeff\", \"\\n\", \"*\", \"-\" in the text. Those characters are not meaningful to us so we need to clean the data so that we replace those character (non-alphabets) with empty string while keeping alphabet characters.\n"
      ]
    },
    {
      "cell_type": "code",
      "metadata": {
        "colab_type": "code",
        "deletable": false,
        "id": "a9tRx6uh0-wW",
        "nbgrader": {
          "cell_type": "code",
          "checksum": "574ce79357ff7c513cf925d7b2b80a77",
          "grade": true,
          "grade_id": "question_21a_answer",
          "locked": false,
          "points": 10,
          "schema_version": 3,
          "solution": true,
          "task": false
        },
        "colab": {}
      },
      "source": [
        "# remove all non-alphabet characters by keep only alphabet characters, exclude !()-[]{};:'\"\\,<>./?@#$%^&*_~ punctations\n",
        "# hopefully the after this code, the whole text will contain alphabet characters and space.\n",
        "import re\n",
        "# YOUR ANSWER HERE\n",
        "return \n",
        "whole_text[:1000]"
      ],
      "execution_count": 0,
      "outputs": []
    },
    {
      "cell_type": "markdown",
      "metadata": {
        "colab_type": "text",
        "id": "GsEColiYOJ1C"
      },
      "source": [
        "Write a function in the cell below that iterates through the words in *whole_text*, removes punctuation, and counts the frequency of each word.  Oh, and be sure to make it ignore word case, words that do not contain all alphabets and boring words like \"and\" or \"the\".  Then use it in the `generate_from_frequencies` function to generate your very own word cloud!\n",
        "<br><br>\n",
        "**Hint:** Try storing the results of your iteration in a dictionary before passing them into wordcloud via the `generate_from_frequencies` function."
      ]
    },
    {
      "cell_type": "code",
      "metadata": {
        "colab_type": "code",
        "deletable": false,
        "id": "JYBFS5VMOJ1F",
        "nbgrader": {
          "cell_type": "code",
          "checksum": "666c213976ba75e70b0e8f51e0abfcc4",
          "grade": true,
          "grade_id": "question_21b_answer",
          "locked": false,
          "points": 10,
          "schema_version": 3,
          "solution": true,
          "task": false
        },
        "colab": {}
      },
      "source": [
        "def calculate_frequencies(file_contents):\n",
        "    # Here is a list of uninteresting words you can use to process your text\n",
        "    uninteresting_words = [\"the\", \"a\", \"to\", \"if\", \"is\", \"it\", \"of\", \"and\", \"or\", \"an\", \"as\", \"i\", \"me\", \"my\", \\\n",
        "    \"we\", \"our\", \"ours\", \"you\", \"your\", \"yours\", \"he\", \"she\", \"him\", \"his\", \"her\", \"hers\", \"its\", \"they\", \"them\", \\\n",
        "    \"their\", \"what\", \"which\", \"who\", \"whom\", \"this\", \"that\", \"am\", \"are\", \"was\", \"were\", \"be\", \"been\", \"being\", \\\n",
        "    \"have\", \"has\", \"had\", \"do\", \"does\", \"did\", \"but\", \"at\", \"by\", \"with\", \"from\", \"here\", \"when\", \"where\", \"how\", \\\n",
        "    \"all\", \"any\", \"both\", \"each\", \"few\", \"more\", \"some\", \"such\", \"no\", \"nor\", \"too\", \"very\", \"can\", \"will\", \"just\", \\\n",
        "    \"in\", \"not\", \"for\", \"should\", \"would\", \"so\", \"shall\", \"on\", \"thou\", \"thee\", \"thy\", \"than\", \"s\",\"d\", \"o\", \"ll\"]\n",
        "    \n",
        "    # result is a dictionary which store the frequency of each words in the text \n",
        "    # so we need result with word as key and frequency as value\n",
        "    result = {}\n",
        "    # YOUR ANSWER HERE\n",
        "    return \n",
        "    \n",
        "    #wordcloud\n",
        "    cloud = wordcloud.WordCloud()\n",
        "    cloud.generate_from_frequencies(result)\n",
        "    return cloud.to_array()"
      ],
      "execution_count": 0,
      "outputs": []
    },
    {
      "cell_type": "markdown",
      "metadata": {
        "colab_type": "text",
        "id": "WA-v8dVtOJ1I"
      },
      "source": [
        "If you have done everything correctly, your word cloud image should appear after running the cell below.  Fingers crossed!"
      ]
    },
    {
      "cell_type": "code",
      "metadata": {
        "colab_type": "code",
        "id": "T23yIzjQOJ1I",
        "colab": {}
      },
      "source": [
        "# Display your wordcloud image\n",
        "\n",
        "myimage = calculate_frequencies(whole_text)\n",
        "plt.imshow(myimage, interpolation = 'nearest')\n",
        "plt.axis('off')\n",
        "plt.show()"
      ],
      "execution_count": 0,
      "outputs": []
    },
    {
      "cell_type": "markdown",
      "metadata": {
        "colab_type": "text",
        "id": "EdXzaGrvOJ1L"
      },
      "source": [
        "If your word cloud image did not appear, go back and rework your `calculate_frequencies` function until you get the desired output.  Definitely check that you passed your frequecy count dictionary into the `generate_from_frequencies` function of `wordcloud`. Once you have correctly displayed your word cloud image, you are all done with this project. Nice work!\n",
        "\n",
        "Note: Make sure you got similar result I got above to receive full marks. In fact, I can see king, lord, good, sir, let, now, man, upon, well and love are popular words in Shakespear text, which make sense.\n",
        "\n",
        "Note: there is no hidden test script for this question so we will mark the answer manually."
      ]
    },
    {
      "cell_type": "code",
      "metadata": {
        "id": "fBUkAB0TOv6M",
        "colab_type": "code",
        "colab": {}
      },
      "source": [
        ""
      ],
      "execution_count": 0,
      "outputs": []
    }
  ]
}